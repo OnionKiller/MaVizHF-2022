{
 "cells": [
  {
   "cell_type": "code",
   "execution_count": null,
   "metadata": {},
   "outputs": [],
   "source": [
    "import meteostat\n",
    "\n"
   ]
  }
 ],
 "metadata": {
  "kernelspec": {
   "display_name": "Python 3.10.4 ('.venv': venv)",
   "language": "python",
   "name": "python3"
  },
  "language_info": {
   "name": "python",
   "version": "3.10.4"
  },
  "orig_nbformat": 4,
  "vscode": {
   "interpreter": {
    "hash": "39e94e8b32935e3ce89ecef5d29ce986d9cae3d7052e32946fbf3b05ec2f28a7"
   }
  }
 },
 "nbformat": 4,
 "nbformat_minor": 2
}
