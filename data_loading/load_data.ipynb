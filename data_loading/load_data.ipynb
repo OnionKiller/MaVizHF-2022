{
 "cells": [
  {
   "cell_type": "markdown",
   "metadata": {},
   "source": [
    "Load all accessible cyceling data from tfl.gov.uk S3 buckets3s3"
   ]
  },
  {
   "cell_type": "code",
   "execution_count": 2,
   "metadata": {},
   "outputs": [],
   "source": [
    "import boto3\n",
    "\n",
    "from botocore import UNSIGNED\n",
    "from botocore.config import Config\n",
    "from botocore.handlers import disable_signing\n",
    "from pathlib import Path\n",
    "\n",
    "#s3 = boto3.client('s3',config=Config(signature_version=UNSIGNED))\n",
    "s3 = boto3.resource('s3')\n",
    "s3.meta.client.meta.events.register('choose-signer.s3.*', disable_signing)\n",
    "\n",
    "tfl_bucket = s3.Bucket('cycling.data.tfl.gov.uk')"
   ]
  },
  {
   "cell_type": "code",
   "execution_count": 3,
   "metadata": {},
   "outputs": [
    {
     "name": "stdout",
     "output_type": "stream",
     "text": [
      "['Acl', 'Cors', 'Lifecycle', 'LifecycleConfiguration', 'Logging', 'Notification', 'Object', 'Policy', 'RequestPayment', 'Tagging', 'Versioning', 'Website']\n"
     ]
    }
   ],
   "source": [
    "print(tfl_bucket.get_available_subresources())"
   ]
  },
  {
   "cell_type": "code",
   "execution_count": 4,
   "metadata": {},
   "outputs": [
    {
     "name": "stderr",
     "output_type": "stream",
     "text": [
      "100%|██████████| 371/371 [07:56<00:00,  1.28s/it]\n"
     ]
    }
   ],
   "source": [
    "from pathlib import Path\n",
    "from tqdm import tqdm\n",
    "\n",
    "data_path = Path('data')\n",
    "data_path.mkdir(parents=True,exist_ok=True)\n",
    "\n",
    "\n",
    "bucker_resources = tfl_bucket.objects.filter(Prefix='usage-stats/')\n",
    "res_len = 0\n",
    "for _ in bucker_resources:\n",
    "    res_len += 1\n",
    "\n",
    "bucker_resources = tfl_bucket.objects.filter(Prefix='usage-stats/')\n",
    "\n",
    "for res in tqdm(bucker_resources,total=res_len):\n",
    "    #print(res.key,res.key.split('/')[-1])\n",
    "    try:\n",
    "        path = Path('data') / Path(res.key.split('/')[-1])\n",
    "        #print(\"Save to\",path)\n",
    "        tfl_bucket.download_file(res.key,str(path))\n",
    "    except Exception as e:\n",
    "        #print(e)\n",
    "        continue"
   ]
  },
  {
   "cell_type": "code",
   "execution_count": 5,
   "metadata": {},
   "outputs": [],
   "source": [
    "import pandas as pd\n",
    "import dask.dataframe as ddf\n",
    "import dask.diagnostics as ddiag\n",
    "from tqdm.dask import TqdmCallback\n",
    "from pathlib import Path"
   ]
  },
  {
   "cell_type": "code",
   "execution_count": 6,
   "metadata": {},
   "outputs": [],
   "source": [
    "files = [ x for x in Path('data').iterdir() if x.suffix == '.csv']"
   ]
  },
  {
   "cell_type": "markdown",
   "metadata": {},
   "source": [
    "Convert data to parquet files as they are easy to read"
   ]
  },
  {
   "cell_type": "code",
   "execution_count": 28,
   "metadata": {},
   "outputs": [
    {
     "name": "stderr",
     "output_type": "stream",
     "text": [
      "100%|██████████| 363/363 [02:31<00:00,  2.40it/s]\n"
     ]
    }
   ],
   "source": [
    "sv_path = Path('data')/Path('compressed')\n",
    "sv_path.mkdir(parents=True,exist_ok=True)\n",
    "for file in tqdm(files):\n",
    "    df = pd.read_csv(file)\n",
    "    df.to_parquet(sv_path/Path(file.stem+'.parquet'))\n"
   ]
  },
  {
   "cell_type": "code",
   "execution_count": 9,
   "metadata": {},
   "outputs": [],
   "source": [
    "parquetta = [ x for x in (Path('data')/'compressed').iterdir() ]"
   ]
  },
  {
   "cell_type": "code",
   "execution_count": 10,
   "metadata": {},
   "outputs": [
    {
     "name": "stderr",
     "output_type": "stream",
     "text": [
      "100%|██████████| 363/363 [00:24<00:00, 14.58it/s]\n"
     ]
    },
    {
     "name": "stdout",
     "output_type": "stream",
     "text": [
      "True\n"
     ]
    }
   ],
   "source": [
    "df_list = list()\n",
    "for file in tqdm(parquetta):\n",
    "    df_list.append(pd.read_parquet(file))\n",
    "gdf = pd.concat(df_list)\n",
    "print(not gdf['Rental Id'].is_unique)"
   ]
  },
  {
   "cell_type": "code",
   "execution_count": 11,
   "metadata": {},
   "outputs": [
    {
     "name": "stdout",
     "output_type": "stream",
     "text": [
      "1626367100\n"
     ]
    }
   ],
   "source": [
    "print(gdf.size)\n",
    "gdf.to_parquet(Path('data')/'full_data.parquet')"
   ]
  },
  {
   "cell_type": "code",
   "execution_count": null,
   "metadata": {},
   "outputs": [],
   "source": [
    "gdf['Start Date'] = pd.to_datetime(gdf['Start Date'],exact=False,infer_datetime_format=True)"
   ]
  },
  {
   "cell_type": "code",
   "execution_count": 18,
   "metadata": {},
   "outputs": [],
   "source": [
    "from dask.diagnostics import progress\n",
    "\n",
    "with progress.ProgressBar():\n",
    "    dgdf = ddf.from_pandas(gdf,32)"
   ]
  },
  {
   "cell_type": "code",
   "execution_count": 19,
   "metadata": {},
   "outputs": [],
   "source": [
    "dgdf['End Date'] = ddf.to_datetime(dgdf['End Date'],exact=False,errors='coerce',infer_datetime_format=True)\n",
    "dgdf['Start Date'] = ddf.to_datetime(dgdf['Start Date'],exact=False,errors='coerce',infer_datetime_format=True)"
   ]
  },
  {
   "cell_type": "code",
   "execution_count": 20,
   "metadata": {},
   "outputs": [
    {
     "name": "stdout",
     "output_type": "stream",
     "text": [
      "[########################################] | 100% Completed | 410.04 s\n"
     ]
    }
   ],
   "source": [
    "with progress.ProgressBar():\n",
    "    dgdf.compute()"
   ]
  },
  {
   "cell_type": "code",
   "execution_count": 21,
   "metadata": {},
   "outputs": [
    {
     "name": "stdout",
     "output_type": "stream",
     "text": [
      "[########################################] | 100% Completed | 461.70 s\n"
     ]
    }
   ],
   "source": [
    "with progress.ProgressBar():\n",
    "    nacount = dgdf.count().compute()\n"
   ]
  },
  {
   "cell_type": "code",
   "execution_count": 22,
   "metadata": {},
   "outputs": [
    {
     "data": {
      "text/html": [
       "<div>\n",
       "<style scoped>\n",
       "    .dataframe tbody tr th:only-of-type {\n",
       "        vertical-align: middle;\n",
       "    }\n",
       "\n",
       "    .dataframe tbody tr th {\n",
       "        vertical-align: top;\n",
       "    }\n",
       "\n",
       "    .dataframe thead th {\n",
       "        text-align: right;\n",
       "    }\n",
       "</style>\n",
       "<table border=\"1\" class=\"dataframe\">\n",
       "  <thead>\n",
       "    <tr style=\"text-align: right;\">\n",
       "      <th></th>\n",
       "      <th>Rental Id</th>\n",
       "      <th>Duration</th>\n",
       "      <th>Bike Id</th>\n",
       "      <th>End Date</th>\n",
       "      <th>EndStation Id</th>\n",
       "      <th>EndStation Name</th>\n",
       "      <th>Start Date</th>\n",
       "      <th>StartStation Id</th>\n",
       "      <th>StartStation Name</th>\n",
       "      <th>Unnamed: 9</th>\n",
       "      <th>Unnamed: 10</th>\n",
       "      <th>Unnamed: 11</th>\n",
       "      <th>EndStation Logical Terminal</th>\n",
       "      <th>endStationPriority_id</th>\n",
       "      <th>StartStation Logical Terminal</th>\n",
       "      <th>Duration_Seconds</th>\n",
       "      <th>End Station Id</th>\n",
       "      <th>End Station Name</th>\n",
       "      <th>Start Station Id</th>\n",
       "      <th>Start Station Name</th>\n",
       "    </tr>\n",
       "  </thead>\n",
       "  <tbody>\n",
       "    <tr>\n",
       "      <th>0</th>\n",
       "      <td>50754225</td>\n",
       "      <td>240.0</td>\n",
       "      <td>11834.0</td>\n",
       "      <td>2016-10-01 00:04:00</td>\n",
       "      <td>383.0</td>\n",
       "      <td>Frith Street, Soho</td>\n",
       "      <td>2016-10-01 00:00:00</td>\n",
       "      <td>18.0</td>\n",
       "      <td>Drury Lane, Covent Garden</td>\n",
       "      <td>NaN</td>\n",
       "      <td>NaN</td>\n",
       "      <td>NaN</td>\n",
       "      <td>NaN</td>\n",
       "      <td>NaN</td>\n",
       "      <td>NaN</td>\n",
       "      <td>NaN</td>\n",
       "      <td>NaN</td>\n",
       "      <td>NaN</td>\n",
       "      <td>NaN</td>\n",
       "      <td>NaN</td>\n",
       "    </tr>\n",
       "    <tr>\n",
       "      <th>0</th>\n",
       "      <td>56723340</td>\n",
       "      <td>720.0</td>\n",
       "      <td>13873.0</td>\n",
       "      <td>2016-03-08 00:12:00</td>\n",
       "      <td>426.0</td>\n",
       "      <td>Vincent Street, Pimlico</td>\n",
       "      <td>2016-03-08 00:00:00</td>\n",
       "      <td>160.0</td>\n",
       "      <td>Waterloo Place, St. James's</td>\n",
       "      <td>NaN</td>\n",
       "      <td>NaN</td>\n",
       "      <td>NaN</td>\n",
       "      <td>NaN</td>\n",
       "      <td>NaN</td>\n",
       "      <td>NaN</td>\n",
       "      <td>NaN</td>\n",
       "      <td>NaN</td>\n",
       "      <td>NaN</td>\n",
       "      <td>NaN</td>\n",
       "      <td>NaN</td>\n",
       "    </tr>\n",
       "    <tr>\n",
       "      <th>0</th>\n",
       "      <td>71029721</td>\n",
       "      <td>180.0</td>\n",
       "      <td>13482.0</td>\n",
       "      <td>2017-02-11 18:23:00</td>\n",
       "      <td>67.0</td>\n",
       "      <td>Hatton Garden, Holborn</td>\n",
       "      <td>2017-02-11 18:20:00</td>\n",
       "      <td>71.0</td>\n",
       "      <td>Newgate Street , St. Paul's</td>\n",
       "      <td>NaN</td>\n",
       "      <td>NaN</td>\n",
       "      <td>NaN</td>\n",
       "      <td>NaN</td>\n",
       "      <td>NaN</td>\n",
       "      <td>NaN</td>\n",
       "      <td>NaN</td>\n",
       "      <td>NaN</td>\n",
       "      <td>NaN</td>\n",
       "      <td>NaN</td>\n",
       "      <td>NaN</td>\n",
       "    </tr>\n",
       "    <tr>\n",
       "      <th>0</th>\n",
       "      <td>93611465</td>\n",
       "      <td>360.0</td>\n",
       "      <td>15418.0</td>\n",
       "      <td>2019-10-12 09:02:00</td>\n",
       "      <td>71.0</td>\n",
       "      <td>Newgate Street , St. Paul's</td>\n",
       "      <td>2019-10-12 08:56:00</td>\n",
       "      <td>101.0</td>\n",
       "      <td>Queen Street 1, Bank</td>\n",
       "      <td>NaN</td>\n",
       "      <td>NaN</td>\n",
       "      <td>NaN</td>\n",
       "      <td>NaN</td>\n",
       "      <td>NaN</td>\n",
       "      <td>NaN</td>\n",
       "      <td>NaN</td>\n",
       "      <td>NaN</td>\n",
       "      <td>NaN</td>\n",
       "      <td>NaN</td>\n",
       "      <td>NaN</td>\n",
       "    </tr>\n",
       "    <tr>\n",
       "      <th>0</th>\n",
       "      <td>89258337</td>\n",
       "      <td>480.0</td>\n",
       "      <td>13889.0</td>\n",
       "      <td>NaT</td>\n",
       "      <td>11.0</td>\n",
       "      <td>Brunswick Square, Bloomsbury</td>\n",
       "      <td>NaT</td>\n",
       "      <td>189.0</td>\n",
       "      <td>Claremont Square, Angel</td>\n",
       "      <td>NaN</td>\n",
       "      <td>NaN</td>\n",
       "      <td>NaN</td>\n",
       "      <td>NaN</td>\n",
       "      <td>NaN</td>\n",
       "      <td>NaN</td>\n",
       "      <td>NaN</td>\n",
       "      <td>NaN</td>\n",
       "      <td>NaN</td>\n",
       "      <td>NaN</td>\n",
       "      <td>NaN</td>\n",
       "    </tr>\n",
       "  </tbody>\n",
       "</table>\n",
       "</div>"
      ],
      "text/plain": [
       "   Rental Id  Duration  Bike Id            End Date  EndStation Id  \\\n",
       "0   50754225     240.0  11834.0 2016-10-01 00:04:00          383.0   \n",
       "0   56723340     720.0  13873.0 2016-03-08 00:12:00          426.0   \n",
       "0   71029721     180.0  13482.0 2017-02-11 18:23:00           67.0   \n",
       "0   93611465     360.0  15418.0 2019-10-12 09:02:00           71.0   \n",
       "0   89258337     480.0  13889.0                 NaT           11.0   \n",
       "\n",
       "                EndStation Name          Start Date  StartStation Id  \\\n",
       "0            Frith Street, Soho 2016-10-01 00:00:00             18.0   \n",
       "0       Vincent Street, Pimlico 2016-03-08 00:00:00            160.0   \n",
       "0        Hatton Garden, Holborn 2017-02-11 18:20:00             71.0   \n",
       "0   Newgate Street , St. Paul's 2019-10-12 08:56:00            101.0   \n",
       "0  Brunswick Square, Bloomsbury                 NaT            189.0   \n",
       "\n",
       "             StartStation Name  Unnamed: 9  Unnamed: 10  Unnamed: 11  \\\n",
       "0    Drury Lane, Covent Garden         NaN          NaN          NaN   \n",
       "0  Waterloo Place, St. James's         NaN          NaN          NaN   \n",
       "0  Newgate Street , St. Paul's         NaN          NaN          NaN   \n",
       "0         Queen Street 1, Bank         NaN          NaN          NaN   \n",
       "0      Claremont Square, Angel         NaN          NaN          NaN   \n",
       "\n",
       "   EndStation Logical Terminal  endStationPriority_id  \\\n",
       "0                          NaN                    NaN   \n",
       "0                          NaN                    NaN   \n",
       "0                          NaN                    NaN   \n",
       "0                          NaN                    NaN   \n",
       "0                          NaN                    NaN   \n",
       "\n",
       "   StartStation Logical Terminal  Duration_Seconds  End Station Id  \\\n",
       "0                            NaN               NaN             NaN   \n",
       "0                            NaN               NaN             NaN   \n",
       "0                            NaN               NaN             NaN   \n",
       "0                            NaN               NaN             NaN   \n",
       "0                            NaN               NaN             NaN   \n",
       "\n",
       "  End Station Name  Start Station Id Start Station Name  \n",
       "0              NaN               NaN                NaN  \n",
       "0              NaN               NaN                NaN  \n",
       "0              NaN               NaN                NaN  \n",
       "0              NaN               NaN                NaN  \n",
       "0              NaN               NaN                NaN  "
      ]
     },
     "execution_count": 22,
     "metadata": {},
     "output_type": "execute_result"
    }
   ],
   "source": [
    "dgdf.head()"
   ]
  },
  {
   "cell_type": "code",
   "execution_count": 24,
   "metadata": {},
   "outputs": [
    {
     "name": "stdout",
     "output_type": "stream",
     "text": [
      "Rental Id                        81318355\n",
      "Duration                         79899342\n",
      "Bike Id                          81318337\n",
      "End Date                         79549014\n",
      "EndStation Id                    79356048\n",
      "EndStation Name                  79897831\n",
      "Start Date                       79713559\n",
      "StartStation Id                  79835469\n",
      "StartStation Name                80067969\n",
      "Unnamed: 9                              0\n",
      "Unnamed: 10                             0\n",
      "Unnamed: 11                             0\n",
      "EndStation Logical Terminal        229639\n",
      "endStationPriority_id              229639\n",
      "StartStation Logical Terminal      232500\n",
      "Duration_Seconds                  1250345\n",
      "End Station Id                    1250386\n",
      "End Station Name                  1250386\n",
      "Start Station Id                  1250386\n",
      "Start Station Name                1250386\n",
      "dtype: int64\n"
     ]
    }
   ],
   "source": [
    "print(nacount)"
   ]
  }
 ],
 "metadata": {
  "kernelspec": {
   "display_name": "Python 3.10.4 ('.venv': venv)",
   "language": "python",
   "name": "python3"
  },
  "language_info": {
   "codemirror_mode": {
    "name": "ipython",
    "version": 3
   },
   "file_extension": ".py",
   "mimetype": "text/x-python",
   "name": "python",
   "nbconvert_exporter": "python",
   "pygments_lexer": "ipython3",
   "version": "3.10.4"
  },
  "vscode": {
   "interpreter": {
    "hash": "39e94e8b32935e3ce89ecef5d29ce986d9cae3d7052e32946fbf3b05ec2f28a7"
   }
  }
 },
 "nbformat": 4,
 "nbformat_minor": 2
}
