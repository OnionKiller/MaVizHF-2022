{
 "cells": [
  {
   "cell_type": "code",
   "execution_count": 4,
   "metadata": {},
   "outputs": [],
   "source": [
    "import json\n",
    "from pathlib import Path\n",
    "\n",
    "with open('correct_files.json','r+') as jfile:\n",
    "    selected_files = json.load(jfile)\n",
    "\n",
    "files_to_load = [Path(x) for x in selected_files]"
   ]
  },
  {
   "cell_type": "code",
   "execution_count": 7,
   "metadata": {},
   "outputs": [
    {
     "name": "stderr",
     "output_type": "stream",
     "text": [
      "100%|██████████| 361/361 [00:22<00:00, 15.95it/s]\n"
     ]
    }
   ],
   "source": [
    "import pandas as pd\n",
    "from tqdm import tqdm\n",
    "\n",
    "df_list = list()\n",
    "for file in tqdm(files_to_load):\n",
    "    df_list.append(pd.read_parquet(file))\n",
    "gdf = pd.concat(df_list)"
   ]
  },
  {
   "cell_type": "code",
   "execution_count": 22,
   "metadata": {},
   "outputs": [],
   "source": [
    "gdf['Start Date'] = pd.to_datetime(gdf['Start Date'],exact=False)\n",
    "gdf['End Date'] = pd.to_datetime(gdf['End Date'],exact=False)"
   ]
  },
  {
   "cell_type": "code",
   "execution_count": 27,
   "metadata": {},
   "outputs": [
    {
     "data": {
      "text/plain": [
       "Rental Id            80773711\n",
       "Duration             80607888\n",
       "Bike Id              80773693\n",
       "End Date             80607888\n",
       "EndStation Id        80606434\n",
       "EndStation Name      80606434\n",
       "Start Date           80773711\n",
       "StartStation Id      80773711\n",
       "StartStation Name    80773711\n",
       "dtype: int64"
      ]
     },
     "execution_count": 27,
     "metadata": {},
     "output_type": "execute_result"
    }
   ],
   "source": [
    "gdf.count()"
   ]
  },
  {
   "cell_type": "code",
   "execution_count": 32,
   "metadata": {},
   "outputs": [
    {
     "data": {
      "application/vnd.jupyter.widget-view+json": {
       "model_id": "ca7971009a5e480aa643f4d35b93adc6",
       "version_major": 2,
       "version_minor": 0
      },
      "text/plain": [
       "Summarize dataset:   0%|          | 0/5 [00:00<?, ?it/s]"
      ]
     },
     "metadata": {},
     "output_type": "display_data"
    },
    {
     "data": {
      "application/vnd.jupyter.widget-view+json": {
       "model_id": "0de9d80b34004277bdf72a8703da3977",
       "version_major": 2,
       "version_minor": 0
      },
      "text/plain": [
       "Generate report structure:   0%|          | 0/1 [00:00<?, ?it/s]"
      ]
     },
     "metadata": {},
     "output_type": "display_data"
    },
    {
     "data": {
      "application/vnd.jupyter.widget-view+json": {
       "model_id": "8ecfe91c2b0a4f45a80d6aef5b66200e",
       "version_major": 2,
       "version_minor": 0
      },
      "text/plain": [
       "Render HTML:   0%|          | 0/1 [00:00<?, ?it/s]"
      ]
     },
     "metadata": {},
     "output_type": "display_data"
    },
    {
     "data": {
      "application/vnd.jupyter.widget-view+json": {
       "model_id": "0f7f4560403d44e0b094ea4b573167b6",
       "version_major": 2,
       "version_minor": 0
      },
      "text/plain": [
       "Export report to file:   0%|          | 0/1 [00:00<?, ?it/s]"
      ]
     },
     "metadata": {},
     "output_type": "display_data"
    }
   ],
   "source": [
    "from pandas_profiling import ProfileReport\n",
    "profile = ProfileReport(gdf, minimal=True)\n",
    "profile.to_file(\"Big_Dataset_report.html\")"
   ]
  },
  {
   "cell_type": "code",
   "execution_count": 28,
   "metadata": {},
   "outputs": [],
   "source": [
    "gdf['Bike Id'] = gdf['Bike Id'].astype(pd.Int64Dtype())\n",
    "gdf['Duration'] = gdf['Duration'].astype(pd.Int64Dtype())\n",
    "gdf['EndStation Id'] = gdf['EndStation Id'].astype(pd.Int64Dtype())"
   ]
  },
  {
   "cell_type": "code",
   "execution_count": 30,
   "metadata": {},
   "outputs": [],
   "source": [
    "gdf.to_parquet('full_data_uniform.parquet')"
   ]
  },
  {
   "cell_type": "code",
   "execution_count": 11,
   "metadata": {},
   "outputs": [],
   "source": [
    "from dask.diagnostics import progress\n",
    "import dask.dataframe as ddf\n",
    "\n",
    "with progress.ProgressBar():\n",
    "    dgdf = ddf.from_pandas(gdf,32)"
   ]
  },
  {
   "cell_type": "code",
   "execution_count": null,
   "metadata": {},
   "outputs": [],
   "source": [
    "dgdf['End Date'] = ddf.to_datetime(dgdf['End Date'],exact=False,errors='coerce',infer_datetime_format=True)\n",
    "dgdf['Start Date'] = ddf.to_datetime(dgdf['Start Date'],exact=False,errors='coerce',infer_datetime_format=True)\n",
    "with progress.ProgressBar():\n",
    "    dgdf.compute()"
   ]
  }
 ],
 "metadata": {
  "kernelspec": {
   "display_name": "Python 3.10.4 ('.venv': venv)",
   "language": "python",
   "name": "python3"
  },
  "language_info": {
   "codemirror_mode": {
    "name": "ipython",
    "version": 3
   },
   "file_extension": ".py",
   "mimetype": "text/x-python",
   "name": "python",
   "nbconvert_exporter": "python",
   "pygments_lexer": "ipython3",
   "version": "3.10.4"
  },
  "orig_nbformat": 4,
  "vscode": {
   "interpreter": {
    "hash": "39e94e8b32935e3ce89ecef5d29ce986d9cae3d7052e32946fbf3b05ec2f28a7"
   }
  }
 },
 "nbformat": 4,
 "nbformat_minor": 2
}
